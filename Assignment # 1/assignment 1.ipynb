{
 "cells": [
  {
   "cell_type": "code",
   "execution_count": 1,
   "id": "0298e808",
   "metadata": {},
   "outputs": [
    {
     "name": "stdout",
     "output_type": "stream",
     "text": [
      "enter radius of a circle3\n",
      "area of circle 28.26\n"
     ]
    }
   ],
   "source": [
    "x=input(\"enter radius of a circle\");\n",
    "r=int(x);\n",
    "a=3.14*r**2\n",
    "print(\"area of circle\",a)\n"
   ]
  },
  {
   "cell_type": "code",
   "execution_count": 7,
   "id": "0830ade0",
   "metadata": {},
   "outputs": [
    {
     "name": "stdout",
     "output_type": "stream",
     "text": [
      "Twinkle, twinkle, little star\n",
      "\t How I wonder what you are!\n",
      "\t\t Up above the world so high,\n",
      "\t\t Like a diamond in the sky.\n",
      "Twinkle, twinkle, little star\n",
      "\t How I wonder what you are!\n"
     ]
    }
   ],
   "source": [
    "print(\"Twinkle, twinkle, little star\")\n",
    "print(\"\\t How I wonder what you are!\")\n",
    "print(\"\\t\\t Up above the world so high,\")\n",
    "print(\"\\t\\t Like a diamond in the sky.\")\n",
    "print(\"Twinkle, twinkle, little star\")\n",
    "print(\"\\t How I wonder what you are!\")\n"
   ]
  },
  {
   "cell_type": "code",
   "execution_count": 8,
   "id": "86c842a1",
   "metadata": {},
   "outputs": [],
   "source": [
    "import sys"
   ]
  },
  {
   "cell_type": "code",
   "execution_count": 9,
   "id": "e095561c",
   "metadata": {},
   "outputs": [
    {
     "name": "stdout",
     "output_type": "stream",
     "text": [
      "sys.version_info(major=3, minor=9, micro=7, releaselevel='final', serial=0)\n"
     ]
    }
   ],
   "source": [
    "print(sys.version_info) "
   ]
  },
  {
   "cell_type": "code",
   "execution_count": 10,
   "id": "7bc5a654",
   "metadata": {},
   "outputs": [
    {
     "data": {
      "text/plain": [
       "True"
      ]
     },
     "execution_count": 10,
     "metadata": {},
     "output_type": "execute_result"
    }
   ],
   "source": [
    "sys.version_info >= (3,7)"
   ]
  },
  {
   "cell_type": "code",
   "execution_count": 11,
   "id": "9d06064d",
   "metadata": {},
   "outputs": [
    {
     "name": "stdout",
     "output_type": "stream",
     "text": [
      "The Current Date and Time is: 2022-01-01 01:11:35.075195\n"
     ]
    }
   ],
   "source": [
    "import datetime\n",
    "current_dt = datetime.datetime.now()\n",
    "print(\"The Current Date and Time is:\", current_dt)"
   ]
  },
  {
   "cell_type": "code",
   "execution_count": 16,
   "id": "c213c15a",
   "metadata": {},
   "outputs": [
    {
     "name": "stdout",
     "output_type": "stream",
     "text": [
      "laiba kashif\n"
     ]
    }
   ],
   "source": [
    "a= \"laiba\"\n",
    "b= \" kashif\"\n",
    "c= a + b\n",
    "print(c)"
   ]
  },
  {
   "cell_type": "code",
   "execution_count": 17,
   "id": "75b21aba",
   "metadata": {},
   "outputs": [
    {
     "name": "stdout",
     "output_type": "stream",
     "text": [
      "14\n"
     ]
    }
   ],
   "source": [
    "y= 5\n",
    "z= 9\n",
    "d= y + z\n",
    "print(d) "
   ]
  },
  {
   "cell_type": "code",
   "execution_count": null,
   "id": "8ba1fba7",
   "metadata": {},
   "outputs": [],
   "source": []
  }
 ],
 "metadata": {
  "kernelspec": {
   "display_name": "Python 3 (ipykernel)",
   "language": "python",
   "name": "python3"
  },
  "language_info": {
   "codemirror_mode": {
    "name": "ipython",
    "version": 3
   },
   "file_extension": ".py",
   "mimetype": "text/x-python",
   "name": "python",
   "nbconvert_exporter": "python",
   "pygments_lexer": "ipython3",
   "version": "3.9.7"
  }
 },
 "nbformat": 4,
 "nbformat_minor": 5
}
